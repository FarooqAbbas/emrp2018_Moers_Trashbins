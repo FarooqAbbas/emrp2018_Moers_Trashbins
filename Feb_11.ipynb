{
 "cells": [
  {
   "cell_type": "code",
   "execution_count": 67,
   "metadata": {},
   "outputs": [
    {
     "name": "stdout",
     "output_type": "stream",
     "text": [
      "'connected to database'\n"
     ]
    }
   ],
   "source": [
    "import psycopg2\n",
    "from pprint import pprint\n",
    "\n",
    "payload_fields='{\"ensor\":\"data\"}'\n",
    "class DatabaseConnection:\n",
    "\tdef __init__(self):\n",
    "\t\ttry:\n",
    "\t\t\tself.connection= psycopg2.connect(\n",
    "\t\t\t\"dbname='emrp2018' user='emrp2018' host='hsrw.space' password='emrp2018!'\")\n",
    "\t\t\tself.connection.autocommit=True\n",
    "\t\t\tself.cursor=self.connection.cursor()\n",
    "\t\t\tpprint(\"connected to database\")\n",
    "\t\texcept:\n",
    "\t\t\tpprint(\"Cannot connect to database\")\n",
    "\n",
    "\tdef insertTTNGateway(self):\n",
    "\t\tpostgres_insert_query = \"\"\" INSERT INTO public.\"SensorData\" (\"DeviceId\",\"Level\",\"Battery\",app_id,dev_id,hardware_serial,\n",
    "        port,counter,payload_raw,\"time\",frequency,modulation,data_rate,airtime,coding_rate,\"TTNGatewayId\",payload_fields)\n",
    "         VALUES (%s,%s,%s,%s,%s,%s,%s,%s,%s,%s,%s,%s,%s,%s,%s,%s,%s)\"\"\"\n",
    "\n",
    "\t\trecord_to_insert = (\"504\",\"23\",\"12\",\"emrp2018\",\"emrp2018dev01\",\"08B5679A6D7G\",1,7,\"AKEO\",\"2019-02-11\",\n",
    "        868,\"LORA\",\"SF7BW125\",51456000,\"4/5\",380,str(payload_fields))\n",
    "\t\tself.cursor.execute(postgres_insert_query, record_to_insert)\n",
    "        #self.connection.commit()\n",
    "\n",
    "if __name__ == '__main__':\n",
    "\tDatabase_Connection=DatabaseConnection()\n",
    "\tDatabase_Connection.insertTTNGateway()     "
   ]
  },
  {
   "cell_type": "code",
   "execution_count": 11,
   "metadata": {},
   "outputs": [
    {
     "name": "stdout",
     "output_type": "stream",
     "text": [
      "'connected to database'\n",
      "0 insert 1.0\n",
      "1 insert 1.2475\n",
      "2 insert 1.555484359375\n",
      "3 insert 1.9383066202380994\n",
      "4 insert 2.413490693912477\n",
      "5 insert 3.002301024066591\n",
      "6 insert 3.7303417514854607\n",
      "7 insert 4.628138565399637\n",
      "8 insert 5.731624040298198\n",
      "9 insert 7.082401265024437\n",
      "10 insert 8.727600562083497\n",
      "11 insert 10.71907317367617\n",
      "12 insert 13.111595142838652\n",
      "13 insert 15.95970911057404\n",
      "14 insert 19.3128556009822\n",
      "15 insert 23.208603522566776\n",
      "16 insert 27.66415620953922\n",
      "17 insert 32.666931414959556\n",
      "18 insert 38.16584324852526\n",
      "19 insert 44.06572508347908\n",
      "20 insert 50.22768603651696\n",
      "21 insert 56.4775564341889\n",
      "22 insert 62.622659590793646\n",
      "23 insert 68.47433075293101\n",
      "24 insert 73.87107851100927\n",
      "25 insert 78.69650753781235\n",
      "26 insert 82.88778367564305\n",
      "27 insert 86.43376788790331\n",
      "28 insert 89.36521928162928\n",
      "29 insert 91.74116805890239\n",
      "30 insert 93.63535528159855\n",
      "31 insert 95.12524470522023\n",
      "32 insert 96.28452543095521\n",
      "33 insert 97.17888219503337\n",
      "34 insert 97.86426488210128\n",
      "35 insert 98.3867952503414\n",
      "36 insert 98.78359036384524\n",
      "37 insert 99.0839936418766\n",
      "38 insert 99.31089756228715\n",
      "39 insert 99.48198601629122\n",
      "[ 1.          1.2475      1.55548436  1.93830662  2.41349069  3.00230102\n",
      "  3.73034175  4.62813857  5.73162404  7.08240127  8.72760056 10.71907317\n",
      " 13.11159514 15.95970911 19.3128556  23.20860352 27.66415621 32.66693141\n",
      " 38.16584325 44.06572508 50.22768604 56.47755643 62.62265959 68.47433075\n",
      " 73.87107851 78.69650754 82.88778368 86.43376789 89.36521928 91.74116806\n",
      " 93.63535528 95.12524471 96.28452543 97.1788822  97.86426488 98.38679525\n",
      " 98.78359036 99.08399364 99.31089756 99.48198602 99.61081867]\n",
      "insert\n"
     ]
    },
    {
     "data": {
      "image/png": "[encoded data removed]",
      "text/plain": [
       "<Figure size 432x288 with 1 Axes>"
      ]
     },
     "metadata": {
      "needs_background": "light"
     },
     "output_type": "display_data"
    }
   ],
   "source": [
    "import numpy as np\n",
    "import matplotlib.pyplot as plt\n",
    "import time\n",
    "import psycopg2\n",
    "from pprint import pprint\n",
    "payload_fields='{\"level\":\"2.4\"}'\n",
    "\n",
    "class DatabaseConnection:\n",
    "\tdef __init__(self):\n",
    "\t\ttry:\n",
    "\t\t\tself.connection= psycopg2.connect(\n",
    "\t\t\t\"dbname='emrp2018' user='emrp2018' host='hsrw.space' password='emrp2018!'\")\n",
    "\t\t\tself.connection.autocommit=True\n",
    "\t\t\tself.cursor=self.connection.cursor()\n",
    "\t\t\tpprint(\"connected to database\")\n",
    "\t\texcept:\n",
    "\t\t\tpprint(\"Cannot connect to database\")\n",
    "            \n",
    "\tdef insertTTNGateway(self):\n",
    "\t\tpostgres_insert_query = \"\"\" INSERT INTO public.\"SensorData\" (\"DeviceId\",\"Level\",\"Battery\",app_id,dev_id,hardware_serial,\n",
    "        port,counter,payload_raw,\"time\",frequency,modulation,data_rate,airtime,coding_rate,\"TTNGatewayId\",payload_fields)\n",
    "         VALUES (%s,%s,%s,%s,%s,%s,%s,%s,%s,%s,%s,%s,%s,%s,%s,%s,%s)\"\"\"\n",
    "\n",
    "\t\trecord_to_insert = (\"504\",\"23\",\"12\",\"emrp2018\",\"emrp2018dev01\",\"08B5679A6D7G\",1,7,\"AKEO\",\"2019-02-11\",\n",
    "        868,\"LORA\",\"SF7BW125\",51456000,\"4/5\",380,str(payload_fields))\n",
    "\t\tself.cursor.execute(postgres_insert_query, record_to_insert)            \n",
    "\n",
    "if __name__ == '__main__':\n",
    "    Database_Connection=DatabaseConnection()\n",
    "    r = .25 # growth rate / yr .25\n",
    "    K = 100 # carrying capacity\n",
    "    t = 40 # number of years\n",
    "    num = np.zeros(t+1)\n",
    "\n",
    "    num[0] = 1\n",
    "    for i in range(t):\n",
    "        num[i+1] = num[i]+r*num[i]*(1-num[i]/K)\n",
    "        print(i,'insert',num[i])\n",
    "        if i<=1:\n",
    "            time.sleep(i)\n",
    "            Database_Connection.insertTTNGateway() \n",
    "       \n",
    "        else:\n",
    "            time.sleep(num[i]-num[i-1])\n",
    "            Database_Connection.insertTTNGateway() \n",
    "       \n",
    "\n",
    "print(num)    \n",
    "print('insert')\n",
    "plt.plot(range(t+1),num, 'b')\n",
    "\n",
    "plt.xlabel('Year')\n",
    "plt.ylabel('Number')\n",
    "plt.title('Growth rate: 0.25, Carrying Capacity = 100')\n",
    "#plt.axvline(np.argmax(np.diff(num)),  color = 'k'  )\n",
    "plt.show()"
   ]
  },
  {
   "cell_type": "code",
   "execution_count": null,
   "metadata": {},
   "outputs": [],
   "source": []
  }
 ],
 "metadata": {
  "kernelspec": {
   "display_name": "Python 3",
   "language": "python",
   "name": "python3"
  },
  "language_info": {
   "codemirror_mode": {
    "name": "ipython",
    "version": 3
   },
   "file_extension": ".py",
   "mimetype": "text/x-python",
   "name": "python",
   "nbconvert_exporter": "python",
   "pygments_lexer": "ipython3",
   "version": "3.7.0"
  }
 },
 "nbformat": 4,
 "nbformat_minor": 2
}
